{
 "cells": [
  {
   "cell_type": "code",
   "execution_count": 1,
   "id": "e0ce0eae",
   "metadata": {},
   "outputs": [
    {
     "name": "stdout",
     "output_type": "stream",
     "text": [
      "WARNING:tensorflow:From c:\\Users\\S MUNI HARISH\\anaconda3\\Lib\\site-packages\\tf_keras\\src\\losses.py:2976: The name tf.losses.sparse_softmax_cross_entropy is deprecated. Please use tf.compat.v1.losses.sparse_softmax_cross_entropy instead.\n",
      "\n",
      "768\n"
     ]
    }
   ],
   "source": [
    "from sentence_transformers import SentenceTransformer\n",
    "\n",
    "model = SentenceTransformer(\"sentence-transformers/all-mpnet-base-v2\")\n",
    "embedding = model.encode(\"Hello world\")\n",
    "print(len(embedding))  # Output: 768"
   ]
  },
  {
   "cell_type": "code",
   "execution_count": null,
   "id": "92c70607",
   "metadata": {},
   "outputs": [
    {
     "name": "stdout",
     "output_type": "stream",
     "text": [
      "[{'item_category_id': 'Fruits and Vegetables', 'count': 38853}, {'item_category_id': 'Snacks and Namkeen', 'count': 32049}, {'item_category_id': 'Masala & Seasoning', 'count': 24381}, {'item_category_id': 'Cleaning & Household', 'count': 19714}, {'item_category_id': 'Chocolates and Biscuits', 'count': 15330}, {'item_category_id': 'Bakery, Cakes & Dairy', 'count': 15270}, {'item_category_id': 'Tea and Coffee', 'count': 9123}, {'item_category_id': 'Oil & Ghee', 'count': 4192}, {'item_category_id': 'Dals and Pulses', 'count': 4083}, {'item_category_id': 'Pasta, Soup and Noodles', 'count': 3347}, {'item_category_id': 'Atta, Flours and Sooji', 'count': 2348}, {'item_category_id': 'Sauces, Spreads and Dips', 'count': 2179}, {'item_category_id': 'Energy and Soft Drinks', 'count': 2050}, {'item_category_id': 'Indian Sweets', 'count': 1871}, {'item_category_id': 'Fruit Juices and Fruit Drinks', 'count': 1786}, {'item_category_id': 'Tinned and Processed Food', 'count': 1607}, {'item_category_id': 'Dairy and Cheese', 'count': 1395}, {'item_category_id': 'Eggs, Meat & Fish', 'count': 1363}, {'item_category_id': 'Detergents and Dishwash', 'count': 1168}, {'item_category_id': 'Rice and Rice Products', 'count': 1139}, {'item_category_id': 'Salt, Sugar and Jaggery', 'count': 920}, {'item_category_id': 'Ready to Cook and Eat', 'count': 892}, {'item_category_id': 'Beauty & Hygiene', 'count': 817}, {'item_category_id': 'Gift Voucher', 'count': 702}, {'item_category_id': 'Cereals and Breakfast', 'count': 667}, {'item_category_id': 'Gourmet & World Foods', 'count': 614}, {'item_category_id': 'Beverages', 'count': 471}, {'item_category_id': 'Snacks, Dry Fruits, Nuts', 'count': 466}, {'item_category_id': 'Cooking and Baking Needs', 'count': 445}, {'item_category_id': 'Pet Care', 'count': 365}, {'item_category_id': 'Snacks & Branded Foods', 'count': 313}, {'item_category_id': 'Pickles and Chutney', 'count': 273}, {'item_category_id': 'Water', 'count': 245}, {'item_category_id': 'Baby Care', 'count': 89}, {'item_category_id': 'Home Care', 'count': 69}, {'item_category_id': 'Home Decor', 'count': 36}, {'item_category_id': 'Foodgrains', 'count': 35}, {'item_category_id': 'Frozen Snacks', 'count': 20}, {'item_category_id': 'Stationery', 'count': 20}, {'item_category_id': 'Packaged Foods', 'count': 14}, {'item_category_id': 'Frozen Vegetables', 'count': 13}, {'item_category_id': 'Other', 'count': 13}, {'item_category_id': 'Desktop and Laptop', 'count': 6}, {'item_category_id': 'Kitchen Accessories', 'count': 1}]\n"
     ]
    }
   ],
   "source": [
    "import httpx\n",
    "\n",
    "SOLR_URL = \"http://10.10.10.55:8983/solr/ret_grocery/select\"\n",
    "\n",
    "\n",
    "def get_categories_nearby(payload):\n",
    "    params = {\"q\": \"*:*\", \"fq\": [f\"{{!geofilt sfield=provider_geo pt={payload['lat']},{payload['lon']} d={payload['radius_km']}}}\"], \"facet\": \"true\", \"facet.field\": \"item_category_id\", \"facet.sort\": \"count\", \"facet.mincount\": 1, \"facet.limit\": -1, \"rows\": 0, \"wt\": \"json\"}\n",
    "    with httpx.Client() as client:\n",
    "        response = client.post(SOLR_URL, data=params)  # No need for custom headers\n",
    "        response.raise_for_status()\n",
    "        data = response.json()\n",
    "    facet_list = data.get(\"facet_counts\", {}).get(\"facet_fields\", {}).get(\"item_category_id\", [])\n",
    "    categories = [{\"item_category_id\": facet_list[i], \"count\": facet_list[i + 1]} for i in range(0, len(facet_list), 2)]\n",
    "    print(categories)\n",
    "\n",
    "\n",
    "get_categories_nearby({\"lat\": 13.00000, \"lon\": 77.00000, \"radius_km\": 1000})"
   ]
  },
  {
   "cell_type": "code",
   "execution_count": null,
   "id": "ae1d03d4",
   "metadata": {},
   "outputs": [],
   "source": []
  }
 ],
 "metadata": {
  "kernelspec": {
   "display_name": "base",
   "language": "python",
   "name": "python3"
  },
  "language_info": {
   "codemirror_mode": {
    "name": "ipython",
    "version": 3
   },
   "file_extension": ".py",
   "mimetype": "text/x-python",
   "name": "python",
   "nbconvert_exporter": "python",
   "pygments_lexer": "ipython3",
   "version": "3.12.3"
  }
 },
 "nbformat": 4,
 "nbformat_minor": 5
}
